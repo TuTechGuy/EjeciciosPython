{
 "cells": [
  {
   "cell_type": "markdown",
   "id": "a673dea3",
   "metadata": {},
   "source": [
    "### **1. Convertir de Romano a entero**"
   ]
  },
  {
   "cell_type": "markdown",
   "id": "efa4930e",
   "metadata": {},
   "source": [
    "Escribe un programa que convierta un numero romano a entero"
   ]
  },
  {
   "cell_type": "code",
   "execution_count": null,
   "id": "d7b71c0a",
   "metadata": {},
   "outputs": [],
   "source": [
    "num='LVIII'"
   ]
  },
  {
   "cell_type": "markdown",
   "id": "3b594e72",
   "metadata": {},
   "source": [
    "### **2. Convertir de Entero a romano**"
   ]
  },
  {
   "cell_type": "markdown",
   "id": "d5cf8974",
   "metadata": {},
   "source": [
    "Escribe un programa que convierta un numero entero a numeros romanos"
   ]
  },
  {
   "cell_type": "code",
   "execution_count": null,
   "id": "13ab0c91",
   "metadata": {},
   "outputs": [],
   "source": [
    "num=1994"
   ]
  },
  {
   "cell_type": "markdown",
   "id": "767209f9",
   "metadata": {},
   "source": [
    "### **3. Prefijo común más largo**"
   ]
  },
  {
   "cell_type": "markdown",
   "id": "1a15edca",
   "metadata": {},
   "source": [
    "Escribe un programa que devuelva el prefijo comun más largo entre una lista de palabras"
   ]
  },
  {
   "cell_type": "code",
   "execution_count": null,
   "id": "578ae9ee",
   "metadata": {},
   "outputs": [],
   "source": [
    "strs= [\"reflower\",\"flow\",\"flight\"]"
   ]
  },
  {
   "cell_type": "markdown",
   "id": "7f0cce22",
   "metadata": {},
   "source": [
    "### **4. SUMA3**"
   ]
  },
  {
   "cell_type": "markdown",
   "id": "ebf30618",
   "metadata": {},
   "source": [
    "Escribe un programa que dada una lista de numeros retorne la combinacion de 3 numeros que sumen 0"
   ]
  },
  {
   "cell_type": "code",
   "execution_count": null,
   "id": "a21ff2e1",
   "metadata": {},
   "outputs": [],
   "source": [
    "nums=[-1,0,1,2,-1,-4]"
   ]
  }
 ],
 "metadata": {
  "language_info": {
   "name": "python"
  }
 },
 "nbformat": 4,
 "nbformat_minor": 5
}
