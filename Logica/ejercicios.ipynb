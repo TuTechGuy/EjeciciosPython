{
 "cells": [
  {
   "cell_type": "markdown",
   "id": "a673dea3",
   "metadata": {},
   "source": [
    "### **1. Convertir de Romano a entero**"
   ]
  },
  {
   "cell_type": "markdown",
   "id": "efa4930e",
   "metadata": {},
   "source": [
    "Escribe un programa que convierta un numero romano a entero"
   ]
  },
  {
   "cell_type": "code",
   "execution_count": null,
   "id": "d7b71c0a",
   "metadata": {},
   "outputs": [],
   "source": [
    "num='LVIII'"
   ]
  },
  {
   "cell_type": "markdown",
   "id": "3b594e72",
   "metadata": {},
   "source": [
    "### **2. Convertir de Entero a romano**"
   ]
  },
  {
   "cell_type": "markdown",
   "id": "d5cf8974",
   "metadata": {},
   "source": [
    "Escribe un programa que convierta un numero entero a numeros romanos"
   ]
  },
  {
   "cell_type": "code",
   "execution_count": null,
   "id": "13ab0c91",
   "metadata": {},
   "outputs": [],
   "source": [
    "num=1994"
   ]
  },
  {
   "cell_type": "markdown",
   "id": "767209f9",
   "metadata": {},
   "source": [
    "### **3. Prefijo común más largo**"
   ]
  },
  {
   "cell_type": "markdown",
   "id": "1a15edca",
   "metadata": {},
   "source": [
    "Escribe un programa que devuelva el prefijo comun más largo entre una lista de palabras"
   ]
  },
  {
   "cell_type": "code",
   "execution_count": null,
   "id": "578ae9ee",
   "metadata": {},
   "outputs": [],
   "source": [
    "strs= [\"reflower\",\"flow\",\"flight\"]"
   ]
  },
  {
   "cell_type": "markdown",
   "id": "7f0cce22",
   "metadata": {},
   "source": [
    "### **4. SUMA3**"
   ]
  },
  {
   "cell_type": "markdown",
   "id": "ebf30618",
   "metadata": {},
   "source": [
    "Escribe un programa que dada una lista de numeros retorne la combinacion de 3 numeros que sumen 0"
   ]
  },
  {
   "cell_type": "code",
   "execution_count": null,
   "id": "a21ff2e1",
   "metadata": {},
   "outputs": [],
   "source": [
    "nums=[-1,0,1,2,-1,-4]"
   ]
  },
  {
   "cell_type": "markdown",
   "id": "de7fa8f2",
   "metadata": {},
   "source": [
    "### **5. SUMA3 mas cercana**"
   ]
  },
  {
   "cell_type": "markdown",
   "id": "0580c801",
   "metadata": {},
   "source": [
    "Escribe un programa que dada una lista de numeros y un valor objetivo, devuelva lo combinacion de 3 numeros que su suma sea la mas cercana a el valor objetivo"
   ]
  },
  {
   "cell_type": "code",
   "execution_count": null,
   "id": "5dc0a2a0",
   "metadata": {},
   "outputs": [],
   "source": [
    "nums=[-4,2,2,3,3,3]\n",
    "objetivo=0"
   ]
  },
  {
   "cell_type": "markdown",
   "id": "0aa8ea3b",
   "metadata": {},
   "source": [
    "### **6. SUMA4**"
   ]
  },
  {
   "cell_type": "markdown",
   "id": "4e0820db",
   "metadata": {},
   "source": [
    "Escribe un programa que dada una lista de numeros y un valor objetivo, devuelva lo combinacion de 4 numeros que su suma sea la mas cercana a el valor objetivo"
   ]
  },
  {
   "cell_type": "code",
   "execution_count": null,
   "id": "419b974e",
   "metadata": {},
   "outputs": [],
   "source": [
    "nums=[1,0,-1,0,-2,2]\n",
    "objetivo=0"
   ]
  },
  {
   "cell_type": "markdown",
   "id": "c81583da",
   "metadata": {},
   "source": [
    "### **7. Parentesis**"
   ]
  },
  {
   "cell_type": "markdown",
   "id": "05d1185c",
   "metadata": {},
   "source": [
    "Escribe un programa que dado una combinacion de parentesis responda si es valida o no. Siendo valida que esten correctamente cerrados."
   ]
  },
  {
   "cell_type": "code",
   "execution_count": null,
   "id": "96815c78",
   "metadata": {},
   "outputs": [],
   "source": [
    "s=\"()[{}\""
   ]
  },
  {
   "cell_type": "markdown",
   "id": "0e4c4b52",
   "metadata": {},
   "source": [
    "### **8. Generar parentesis**"
   ]
  },
  {
   "cell_type": "markdown",
   "id": "e4d71be0",
   "metadata": {},
   "source": [
    "Escribe un programa que dado un numero genere todas las posibles combinaciones de parentesis que contenga n parentesis de entrada y n de salida siendo n el numero dado."
   ]
  },
  {
   "cell_type": "code",
   "execution_count": null,
   "id": "728f6efd",
   "metadata": {},
   "outputs": [],
   "source": [
    "n=4"
   ]
  },
  {
   "cell_type": "markdown",
   "id": "e33a2324",
   "metadata": {},
   "source": []
  }
 ],
 "metadata": {
  "language_info": {
   "name": "python"
  }
 },
 "nbformat": 4,
 "nbformat_minor": 5
}
