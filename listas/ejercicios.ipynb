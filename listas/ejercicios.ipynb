{
 "cells": [
  {
   "cell_type": "markdown",
   "id": "0b593ac8",
   "metadata": {},
   "source": [
    "### 1. **Invertir una lista**"
   ]
  },
  {
   "cell_type": "markdown",
   "id": "7cdfae42",
   "metadata": {},
   "source": [
    "Escribe un programa que invierta el orden de los valores de una lista sin crear una lista nueva."
   ]
  },
  {
   "cell_type": "code",
   "execution_count": null,
   "id": "6f3a381e",
   "metadata": {},
   "outputs": [],
   "source": [
    "ejemplo = ['Hola',2,3.5,True,None]"
   ]
  },
  {
   "cell_type": "markdown",
   "id": "806988cf",
   "metadata": {},
   "source": [
    "### 2. **Ordenar una lista por frecuencia de una letra en las palabras**"
   ]
  },
  {
   "cell_type": "markdown",
   "id": "d0be9f4a",
   "metadata": {},
   "source": [
    "Escribe un programa que ordene una lista de palabras por la frecuencia que aparece la letra **a** en la palabra de mayor a menor."
   ]
  },
  {
   "cell_type": "code",
   "execution_count": null,
   "id": "05e4545d",
   "metadata": {},
   "outputs": [],
   "source": [
    "palabras_con_a = [\n",
    "    \"sol\", \"tren\", \n",
    "    \"cama\", \"alarma\",\n",
    "    \"casa\", \"mano\",\n",
    "    \"alacrana\", \"anaranjada\",\n",
    "    \"apagada\", \"amargadamente\"\n",
    "]"
   ]
  },
  {
   "cell_type": "markdown",
   "id": "b2247c7b",
   "metadata": {},
   "source": [
    "### 3. **Agrupar palabras por su longitud**"
   ]
  },
  {
   "cell_type": "markdown",
   "id": "fcc8b4d4",
   "metadata": {},
   "source": [
    "Escribe un programa que dado una lista de palabras, devuelva un diccionario con las palabras agrupadas por su longitud siendo el valor de la longitud la clave del diccionario y el valor del diccionario la lista de palabras con dicha longitud.\n",
    "```\n",
    "ejemplo_resultado= {\n",
    "    2: ['la','el'],\n",
    "    4: ['casa','vaso']\n",
    "}\n",
    "```"
   ]
  },
  {
   "cell_type": "code",
   "execution_count": null,
   "id": "33ab7fc8",
   "metadata": {},
   "outputs": [],
   "source": [
    "palabras = [\n",
    "    \"sol\", \"tren\",\n",
    "    \"cama\", \"alarma\",\n",
    "    \"pepitogrillo\"]\n",
    "grupos={}"
   ]
  },
  {
   "cell_type": "markdown",
   "id": "73a56b79",
   "metadata": {},
   "source": [
    "### **4. Filtrar los valores pares de una lista**"
   ]
  },
  {
   "cell_type": "markdown",
   "id": "84dc9ead",
   "metadata": {},
   "source": [
    "Escribe un programa en Python que recorra una lista dada y filtre únicamente los valores pares, \n",
    "devolviendo una nueva lista con dichos valores."
   ]
  },
  {
   "cell_type": "code",
   "execution_count": null,
   "id": "cd27124b",
   "metadata": {},
   "outputs": [],
   "source": [
    "lista = [1,2,3,4,5,6,7,8,9,10]"
   ]
  },
  {
   "cell_type": "markdown",
   "id": "e60d0e03",
   "metadata": {},
   "source": [
    "### **5. Palabra más larga sin letras repetidas**"
   ]
  },
  {
   "cell_type": "markdown",
   "id": "9def15fb",
   "metadata": {},
   "source": [
    "Escribe un programa que devuelva la palabra mas larga de una lista que no contenga letras repetidas."
   ]
  },
  {
   "cell_type": "code",
   "execution_count": null,
   "id": "95a7cad2",
   "metadata": {},
   "outputs": [],
   "source": [
    "palabras = [\"cielo\", \"murciélago\", \"abcde\", \"lluvia\"]"
   ]
  },
  {
   "cell_type": "markdown",
   "id": "56c769d2",
   "metadata": {},
   "source": [
    "### **6.Eliminar duplicados de una lista**"
   ]
  },
  {
   "cell_type": "markdown",
   "id": "d972680b",
   "metadata": {},
   "source": [
    "Escribe un programa que elimine los duplicados de una lista."
   ]
  },
  {
   "cell_type": "code",
   "execution_count": null,
   "id": "4a9ff423",
   "metadata": {},
   "outputs": [],
   "source": [
    "numeros = [1,5, 8, 4, 6,1,1,1,24,78, 3, 5, 8, 4, 6, 1]"
   ]
  },
  {
   "cell_type": "markdown",
   "id": "754371c4",
   "metadata": {},
   "source": [
    "### **7. Cadenas de multiplicación**"
   ]
  },
  {
   "cell_type": "markdown",
   "id": "71438315",
   "metadata": {},
   "source": [
    "Escribe un programa que encuentre 3 número sucesivos que multiplicados:\n",
    "- El producto sea par\n",
    "- El producto sea mayor que un valor"
   ]
  },
  {
   "cell_type": "code",
   "execution_count": null,
   "id": "42fa265a",
   "metadata": {},
   "outputs": [],
   "source": [
    "numeros = [1, 3, 5, 2, 4, 6, 1]\n",
    "valor = 50"
   ]
  },
  {
   "cell_type": "code",
   "execution_count": null,
   "id": "b965afcc",
   "metadata": {},
   "outputs": [],
   "source": []
  }
 ],
 "metadata": {
  "kernelspec": {
   "display_name": "casochurn",
   "language": "python",
   "name": "python3"
  },
  "language_info": {
   "codemirror_mode": {
    "name": "ipython",
    "version": 3
   },
   "file_extension": ".py",
   "mimetype": "text/x-python",
   "name": "python",
   "nbconvert_exporter": "python",
   "pygments_lexer": "ipython3",
   "version": "3.12.0"
  }
 },
 "nbformat": 4,
 "nbformat_minor": 5
}
