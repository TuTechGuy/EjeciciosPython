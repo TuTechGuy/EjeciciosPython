{
 "cells": [
  {
   "cell_type": "markdown",
   "id": "fa7d8957",
   "metadata": {},
   "source": [
    "### 1. **Invertir una lista**"
   ]
  },
  {
   "cell_type": "code",
   "execution_count": null,
   "id": "e239bb29",
   "metadata": {},
   "outputs": [],
   "source": [
    "ejemplo = ['Hola',2,3.5,True,None]\n",
    "\"\"\"\n",
    "Invertimos la llista con indexacion.\n",
    "\n",
    "Primero se indica el inicio y el fin de la llista, y luego se indica el paso.\n",
    "En este caso, el paso es -1, lo que significa que se va a recorrer la llista de derecha a izquierda.\n",
    "\n",
    "ejemplo[:] Seleccionamos toda la lista\n",
    "ejemplo[::-1] Añadimos el paso -1 para recorrer la lista al reves\n",
    "\n",
    "\"\"\"\n",
    "\n",
    "ejemplo[::-1]"
   ]
  },
  {
   "cell_type": "markdown",
   "id": "d7bcab00",
   "metadata": {},
   "source": [
    "### 2. **Ordenar una lista por frecuencia de una letra en las palabras**"
   ]
  },
  {
   "cell_type": "code",
   "execution_count": null,
   "id": "fe68d8fc",
   "metadata": {},
   "outputs": [],
   "source": [
    "palabras_con_a = [\n",
    "    \"sol\", \"tren\", \n",
    "    \"cama\", \"alarma\",\n",
    "    \"casa\", \"mano\",\n",
    "    \"alacrana\", \"anaranjada\",\n",
    "    \"apagada\", \"amargadamente\"]\n",
    "\n",
    "\"\"\"\n",
    "sorted() ordena la lista de palabras en funcion de la cantidad de letras \"a\" que contiene cada palabra.\n",
    "El argumento key indica que se va a usar una funcion lambda para contar las letras \"a\" en cada palabra.\n",
    "El argumento reverse=True indica que se va a ordenar de mayor a menor.\n",
    "\"\"\"\n",
    "sorted(palabras_con_a, key=lambda palabra: palabra.count(\"a\"), reverse=True) "
   ]
  },
  {
   "cell_type": "markdown",
   "id": "aea341e8",
   "metadata": {},
   "source": [
    "### 3. **Agrupar palabras por su longitud**"
   ]
  },
  {
   "cell_type": "code",
   "execution_count": 5,
   "id": "ec09c328",
   "metadata": {},
   "outputs": [
    {
     "name": "stdout",
     "output_type": "stream",
     "text": [
      "{3: ['sol'], 4: ['tren', 'cama'], 6: ['alarma'], 12: ['pepitogrillo']}\n"
     ]
    }
   ],
   "source": [
    "palabras = [\n",
    "    \"sol\", \"tren\",\n",
    "    \"cama\", \"alarma\",\n",
    "    \"pepitogrillo\"]\n",
    "\n",
    "grupos={}\n",
    "\n",
    "for palabra in palabras:\n",
    "    grupos.setdefault(len(palabra),[]).append(palabra)\n",
    "\"\"\"\n",
    "El metodo setdefault() devuelve el valor de la clave especificada en el diccionario.\n",
    "Si la clave no existe, se crea una nueva clave con el valor especificado (en este caso, una lista vacia).\n",
    "Luego, se añade la palabra a la lista correspondiente a su longitud.\n",
    "\"\"\"\n",
    "print(grupos)\n"
   ]
  },
  {
   "cell_type": "markdown",
   "id": "a39ce569",
   "metadata": {},
   "source": [
    "### **4. Filtrar los valores pares de una lista**"
   ]
  },
  {
   "cell_type": "code",
   "execution_count": 1,
   "id": "66aaa555",
   "metadata": {},
   "outputs": [
    {
     "name": "stdout",
     "output_type": "stream",
     "text": [
      "[2, 4, 6, 8, 10]\n"
     ]
    }
   ],
   "source": [
    "lista = [1,2,3,4,5,6,7,8,9,10]\n",
    "\n",
    "lista_nueva = [i for i in lista if i % 2 == 0]\n",
    "\"\"\"\n",
    "La lista nueva contiene solo los elementos de la lista original que son pares.\n",
    "El bucle for recorre cada elemento de la lista original y el condicional if filtra los elementos que cumplen la condicion.\n",
    "\"\"\"\n",
    "print(lista_nueva)"
   ]
  },
  {
   "cell_type": "markdown",
   "id": "48492d7c",
   "metadata": {},
   "source": [
    "### **5. Palabra más larga sin letras repetidas**"
   ]
  },
  {
   "cell_type": "code",
   "execution_count": 2,
   "id": "7bf9dcee",
   "metadata": {},
   "outputs": [
    {
     "name": "stdout",
     "output_type": "stream",
     "text": [
      "murciélago\n"
     ]
    }
   ],
   "source": [
    "palabras = [\"cielo\", \"murciélago\", \"abcde\", \"lluvia\"]\n",
    "palabras_no_repetidas = [i for i in palabras if len(set(i)) == len(i)]\n",
    "\"\"\"\n",
    "La lista palabras_no_repetidas contiene solo las palabras que no tienen letras repetidas.\n",
    "El bucle for recorre cada palabra de la lista original y el condicional if filtra las palabras que cumplen la condicion \n",
    "comprobando que la longitud de letras únicas len(set(i)) es igual que la longitud de la palabra.\n",
    "\n",
    "Luego, se utiliza la funcion max() para encontrar la palabra mas larga de la lista palabras_no_repetidas diciendo que encuentre el maximo por longitud.\n",
    "\"\"\"\n",
    "print(max(palabras_no_repetidas, key=len))"
   ]
  },
  {
   "cell_type": "markdown",
   "id": "d7cf19e4",
   "metadata": {},
   "source": [
    "### **6. Eliminar duplicados de una lista**"
   ]
  },
  {
   "cell_type": "code",
   "execution_count": null,
   "id": "0d488bbd",
   "metadata": {},
   "outputs": [],
   "source": [
    "numeros = [1,5, 8, 4, 6,1,1,1,24,78, 3, 5, 8, 4, 6, 1]\n",
    "\n",
    "def eliminar_duplicados(lista):\n",
    "    return list(set(lista))\n",
    "\"\"\"\n",
    "La funcion eliminar_duplicados() convierte la lista en un conjunto (set) para eliminar los duplicados y luego vuelve a convertirlo en una lista.\n",
    "El resultado es una lista sin duplicados.\n",
    "\"\"\"\n",
    "print(eliminar_duplicados(numeros))"
   ]
  },
  {
   "cell_type": "markdown",
   "id": "c20e0db5",
   "metadata": {},
   "source": [
    "### **7. Cadenas de multiplicación**"
   ]
  },
  {
   "cell_type": "code",
   "execution_count": null,
   "id": "10e2bcbd",
   "metadata": {},
   "outputs": [],
   "source": [
    "numeros = [1, 3, 5, 2, 4, 6, 1]\n",
    "valor = 50\n",
    "\n",
    "def cadena_multiplicacion(lista, valor):\n",
    "    for i in range(len(lista) - 2):\n",
    "        a, b, c = lista[i], lista[i+1], lista[i+2]\n",
    "        producto = a * b * c\n",
    "        if producto % 2 == 0 and producto > valor:\n",
    "            return (a, b, c), producto\n",
    "    return None, None\n",
    "\"\"\"\n",
    "La funcion cadena_multiplicacion() recorre la lista y toma tres elementos consecutivos a, b y c.\n",
    "Luego, calcula el producto de esos tres elementos y verifica si es par y mayor que el valor dado.\n",
    "Si se encuentra una cadena que cumple con estas condiciones, se devuelve la cadena y el producto.\n",
    "Si no se encuentra ninguna cadena, se devuelve None.\n",
    "\"\"\"\n",
    "print(cadena_multiplicacion(numeros, valor))"
   ]
  },
  {
   "cell_type": "markdown",
   "id": "69ac2661",
   "metadata": {},
   "source": []
  }
 ],
 "metadata": {
  "kernelspec": {
   "display_name": "casochurn",
   "language": "python",
   "name": "python3"
  },
  "language_info": {
   "codemirror_mode": {
    "name": "ipython",
    "version": 3
   },
   "file_extension": ".py",
   "mimetype": "text/x-python",
   "name": "python",
   "nbconvert_exporter": "python",
   "pygments_lexer": "ipython3",
   "version": "3.12.0"
  }
 },
 "nbformat": 4,
 "nbformat_minor": 5
}
