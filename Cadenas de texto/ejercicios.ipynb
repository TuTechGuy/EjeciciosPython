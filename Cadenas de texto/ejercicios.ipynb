{
 "cells": [
  {
   "cell_type": "markdown",
   "id": "9669a8ad",
   "metadata": {},
   "source": [
    "### **1. Longitud de la ultima palabra**"
   ]
  },
  {
   "cell_type": "markdown",
   "id": "e35b335c",
   "metadata": {},
   "source": [
    "Escribe un programa que dada una cadena de texto devuelva la longitud de la ultima palabra"
   ]
  },
  {
   "cell_type": "code",
   "execution_count": null,
   "id": "2cd8a2fa",
   "metadata": {},
   "outputs": [],
   "source": [
    "test1=\"Hello World\"\n",
    "test2=\"   fly me   to   the moon  \""
   ]
  },
  {
   "cell_type": "markdown",
   "id": "da34d172",
   "metadata": {},
   "source": [
    "### **2. Palabras espejo**"
   ]
  },
  {
   "cell_type": "markdown",
   "id": "e8426d74",
   "metadata": {},
   "source": [
    "Escribe un programa que dada una palabra devuelva si se lee igual al reverso."
   ]
  },
  {
   "cell_type": "code",
   "execution_count": null,
   "id": "ab0f91ba",
   "metadata": {},
   "outputs": [],
   "source": [
    "test1='radar'\n",
    "test2='alicate'"
   ]
  },
  {
   "cell_type": "markdown",
   "id": "d4f8eda0",
   "metadata": {},
   "source": [
    "### **3. Extractor de hashtags únicos**"
   ]
  },
  {
   "cell_type": "markdown",
   "id": "ef898545",
   "metadata": {},
   "source": [
    "Escribe un programa que extraiga los hashtag de una frase."
   ]
  },
  {
   "cell_type": "code",
   "execution_count": null,
   "id": "1dca55cc",
   "metadata": {},
   "outputs": [],
   "source": [
    "test1=\"¡Hoy en #DataScience y #Python! Aprende #Python y #MachineLearning\""
   ]
  },
  {
   "cell_type": "markdown",
   "id": "a222b354",
   "metadata": {},
   "source": [
    "### **4. Clasificador de emails por dominio**"
   ]
  },
  {
   "cell_type": "markdown",
   "id": "bbb422b8",
   "metadata": {},
   "source": [
    "Escribe un programa que devuelva un diccionario con los emails clasificado por su dominio.\n",
    "```python\n",
    "{\n",
    "    \"@gmail.com\":[\"pepito23@gmail.com\",..]\n",
    "}\n",
    "```"
   ]
  },
  {
   "cell_type": "code",
   "execution_count": null,
   "id": "2ea4869c",
   "metadata": {},
   "outputs": [],
   "source": [
    "emails = [\"ana@gmail.com\", \"pedro@empresa.com\", \"luis@gmail.com\"]"
   ]
  }
 ],
 "metadata": {
  "kernelspec": {
   "display_name": "casochurn",
   "language": "python",
   "name": "python3"
  },
  "language_info": {
   "name": "python",
   "version": "3.12.0"
  }
 },
 "nbformat": 4,
 "nbformat_minor": 5
}
