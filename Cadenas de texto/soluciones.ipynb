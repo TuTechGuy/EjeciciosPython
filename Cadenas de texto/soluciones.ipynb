{
 "cells": [
  {
   "cell_type": "markdown",
   "id": "5c89d6db",
   "metadata": {},
   "source": [
    "### **1. Longitud de la ultima palabra**"
   ]
  },
  {
   "cell_type": "code",
   "execution_count": null,
   "id": "a76a63b1",
   "metadata": {},
   "outputs": [],
   "source": [
    "test1=\"Hello World\"\n",
    "test2=\"   fly me   to   the moon  \"\n",
    "def lengthOfLastWord(s):\n",
    "        return len(s.strip().split(' ')[-1])\n",
    "\"\"\"\n",
    "Primero eliminamos los espacios en blanco al principio y al final de la cadena, luego la dividimos en una lista de palabras usando el espacio como delimitador y finalmente tomamos la longitud de la última palabra.\n",
    "La complejidad temporal de este algoritmo es O(n), donde n es la longitud de la cadena de entrada, ya que en el peor de los casos tenemos que recorrer toda la cadena para eliminar los espacios en blanco y dividirla en palabras. La complejidad espacial es O(1) porque no utilizamos espacio adicional significativo, solo una lista temporal para almacenar las palabras.\n",
    "La complejidad espacial es O(n) porque la lista de palabras puede contener hasta n palabras en el peor de los casos.\n",
    "\"\"\"\n",
    "print(lengthOfLastWord(test1))\n",
    "print(lengthOfLastWord(test2))"
   ]
  },
  {
   "cell_type": "markdown",
   "id": "cca4b012",
   "metadata": {},
   "source": [
    "### **2. Palabras espejo**"
   ]
  },
  {
   "cell_type": "code",
   "execution_count": null,
   "id": "9371d2bb",
   "metadata": {},
   "outputs": [],
   "source": [
    "test1='radar'\n",
    "test2='alicate'\n",
    "\n",
    "def reverso(s):\n",
    "    return s== s[::-1]\n",
    "\"\"\"\n",
    "Mediante la indexacion, seleccionamos toda la cadena s[:] y la invertimos usando paso -1 s[::-1]. \n",
    "Luego comparamos la cadena original con la invertida. Si son iguales, significa que la cadena es un palíndromo.\n",
    "\"\"\"\n",
    "print(reverso(test1))\n",
    "print(reverso(test2))"
   ]
  },
  {
   "cell_type": "markdown",
   "id": "977f4340",
   "metadata": {},
   "source": [
    "### **3. Extractor de hashtags únicos**"
   ]
  },
  {
   "cell_type": "code",
   "execution_count": null,
   "id": "c9eda63a",
   "metadata": {},
   "outputs": [],
   "source": [
    "test1=\"¡Hoy en #DataScience y #Python! Aprende #Python y #MachineLearning\"\n",
    "\n",
    "import re \n",
    "def extract_hashtags(text):\n",
    "    hashtags = re.findall(r'#\\w+', text)\n",
    "    seen = set()\n",
    "    return [tag for tag in hashtags \n",
    "            if not (tag.lower() in seen or seen.add(tag.lower()))\n",
    "            ]\n",
    "\"\"\"\n",
    "La función utiliza la biblioteca re para encontrar todas las palabras que comienzan con el símbolo de número (#) en el texto. \n",
    "Luego, se utiliza un conjunto (set) para almacenar los hashtags únicos y se devuelve una lista de hashtags únicos en el orden en que aparecen en el texto original.\n",
    "\"\"\"\n",
    "print(extract_hashtags(test1))"
   ]
  },
  {
   "cell_type": "markdown",
   "id": "cb97338b",
   "metadata": {},
   "source": [
    "### **4. Clasificador de emails por dominio**"
   ]
  },
  {
   "cell_type": "code",
   "execution_count": null,
   "id": "7921cf20",
   "metadata": {},
   "outputs": [
    {
     "name": "stdout",
     "output_type": "stream",
     "text": [
      "{'gmail.com': ['ana@gmail.com', 'luis@gmail.com'], 'empresa.com': ['pedro@empresa.com']}\n"
     ]
    }
   ],
   "source": [
    "emails = [\"ana@gmail.com\", \"pedro@empresa.com\", \"luis@gmail.com\"]\n",
    "\n",
    "def group_emails_by_domain(emails):\n",
    "    result = {}\n",
    "    for email in emails:\n",
    "        domain = email.split('@')[1]\n",
    "        result.setdefault(domain,[]).append(email)\n",
    "    return result\n",
    "\"\"\"\n",
    "La función utiliza un diccionario para agrupar los correos electrónicos por dominio. \n",
    "Para cada correo electrónico, se extrae el dominio (la parte después de '@') y se agrega el correo electrónico a la lista correspondiente en el diccionario.\n",
    "Empleamos el método setdefault() para inicializar la lista si el dominio no existe en el diccionario y luego agregamos el correo electrónico a esa lista.\n",
    "\"\"\"\n",
    "print(group_emails_by_domain(emails))"
   ]
  },
  {
   "cell_type": "code",
   "execution_count": null,
   "id": "8a28f6ad",
   "metadata": {},
   "outputs": [],
   "source": []
  }
 ],
 "metadata": {
  "kernelspec": {
   "display_name": "casochurn",
   "language": "python",
   "name": "python3"
  },
  "language_info": {
   "codemirror_mode": {
    "name": "ipython",
    "version": 3
   },
   "file_extension": ".py",
   "mimetype": "text/x-python",
   "name": "python",
   "nbconvert_exporter": "python",
   "pygments_lexer": "ipython3",
   "version": "3.12.0"
  }
 },
 "nbformat": 4,
 "nbformat_minor": 5
}
